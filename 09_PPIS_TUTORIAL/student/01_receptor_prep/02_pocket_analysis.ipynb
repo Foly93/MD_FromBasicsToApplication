{
 "cells": [
  {
   "cell_type": "markdown",
   "metadata": {},
   "source": [
    "# System Setup"
   ]
  },
  {
   "cell_type": "code",
   "execution_count": 1,
   "metadata": {},
   "outputs": [
    {
     "data": {
      "application/vnd.jupyter.widget-view+json": {
       "model_id": "f25feafb479c409fac984463d9487201",
       "version_major": 2,
       "version_minor": 0
      },
      "text/plain": []
     },
     "metadata": {},
     "output_type": "display_data"
    }
   ],
   "source": [
    "import numpy as np\n",
    "import mdtraj as md\n",
    "import pandas as pd\n",
    "import nglview as nv\n",
    "import seaborn as sns\n",
    "import matplotlib.pyplot as plt"
   ]
  },
  {
   "cell_type": "code",
   "execution_count": 2,
   "metadata": {},
   "outputs": [],
   "source": [
    "from functions import *"
   ]
  },
  {
   "cell_type": "code",
   "execution_count": 3,
   "metadata": {},
   "outputs": [],
   "source": [
    "## The Atomic Radii used for SASA calculation\n",
    "_ATOMIC_RADII = {'H'   : 0.120, 'He'  : 0.140, 'Li'  : 0.076, 'Be' : 0.059,\n",
    "                 'B'   : 0.192, 'C'   : 0.170, 'N'   : 0.155, 'O'  : 0.152,\n",
    "                 'F'   : 0.147, 'Ne'  : 0.154, 'Na'  : 0.102, 'Mg' : 0.086,\n",
    "                 'Al'  : 0.184, 'Si'  : 0.210, 'P'   : 0.180, 'S'  : 0.180,\n",
    "                'Ca'   : 0.200, 'Cl'  : 0.200, 'Zn'  : 0.200, 'VS' : 0.152,\n",
    "                 'I'   : 0.220, 'Br'  : 0.196 , 'A'  : 0.170,}"
   ]
  },
  {
   "cell_type": "markdown",
   "metadata": {},
   "source": [
    "# Pocket Analysis"
   ]
  },
  {
   "cell_type": "markdown",
   "metadata": {},
   "source": [
    "## Read Proteins and  Calculate SASA"
   ]
  },
  {
   "cell_type": "code",
   "execution_count": 4,
   "metadata": {},
   "outputs": [],
   "source": [
    "# Path to output files from FPocket Pocket Hunt\n",
    "path2out = 'hmx.B99990001_out/hmx.B99990001_out.pdb'\n",
    "path2config = '../03_docking_prep/config'\n",
    "# Load the file with mdtraj and convert to table\n",
    "pdb = md.load(path2out)\n",
    "table, _ = pdb.topology.to_dataframe()\n",
    "\n",
    "# from the table get the atom indices, coords and elements for both proteins\n",
    "A_ids = table.query('chainID == 0').index\n",
    "B_ids = table.query('chainID == 1').index\n",
    "A_xyz = pdb.xyz[:,A_ids]\n",
    "B_xyz = pdb.xyz[:,B_ids]\n",
    "A_elems = table.loc[A_ids,'element'].values\n",
    "B_elems = table.loc[B_ids,'element'].values\n",
    "\n",
    "# SASA calculation with external function \n",
    "### would be better if we wrote functions.Sasa_calc, then its clear where the function comes from\n",
    "A_Radii    = [_ATOMIC_RADII[element] for element in A_elems]\n",
    "B_Radii    = [_ATOMIC_RADII[element] for element in B_elems]  \n",
    "A_SASA     = Sasa_calc(A_xyz,A_Radii)[0]\n",
    "B_SASA     = Sasa_calc(B_xyz,B_Radii)[0]"
   ]
  },
  {
   "cell_type": "markdown",
   "metadata": {},
   "source": [
    "## Read Pocket and Calculate BSA"
   ]
  },
  {
   "cell_type": "code",
   "execution_count": 5,
   "metadata": {},
   "outputs": [],
   "source": [
    "# create subtable just for all the pockets\n",
    "P_table = table.query('chainID == 2')\n",
    "P_count = P_table.resSeq.max()\n",
    "P_boxv = np.zeros([P_count,3])\n",
    "P_com = np.zeros([P_count,3])\n",
    "\n",
    "# initialise arrays for SASA calculation aswell as Drug Score and Pocket Score\n",
    "P_SASA = np.zeros(P_count)\n",
    "AP_SASA = np.zeros_like(P_SASA)\n",
    "BP_SASA = np.zeros_like(P_SASA)\n",
    "S_Pocket = np.zeros_like(P_SASA)\n",
    "S_Drug = np.zeros_like(P_SASA)\n",
    "\n",
    "# define file path to the different pqr files from Pocket hunt\n",
    "P_pqr = 'hmx.B99990001_out/pockets/pocket{}_vert.pqr'\n",
    "\n",
    "# iterate over the different pockets which are identified by resSeq column in the Pocket Table\n",
    "for i, pocket in enumerate(P_table.groupby('resSeq')):\n",
    "    \n",
    "    # get correct file name for the corresponding pocket\n",
    "    path2pqr = P_pqr.format(i+1)\n",
    "    \n",
    "    # define Pocket ids, positions and Radii from the pocket (groupby() yields the [0]:groupID and [1]:group itself)\n",
    "    P_ids = pocket[1].index\n",
    "    P_xyz = pdb.xyz[:,P_ids]\n",
    "    P_Radii = [0.152]*len(P_ids)\n",
    "    \n",
    "    # Sasa calculation and Scoring with functions from functions.py based on Properties from A, B and P! \n",
    "    P_com[i], P_boxv[i] = pocket2boxsize(P_xyz)\n",
    "    P_SASA[i] = Sasa_calc(P_xyz, P_Radii)[0]\n",
    "    AP_SASA[i] = Sasa_calc(np.concatenate([A_xyz, P_xyz],axis=1),A_Radii + P_Radii)[0]\n",
    "    BP_SASA[i] = Sasa_calc(np.concatenate([B_xyz, P_xyz],axis=1),B_Radii + P_Radii)[0]\n",
    "    S_Pocket[i], S_Drug[i] = read_output(path2pqr,pocket_pattern)"
   ]
  },
  {
   "cell_type": "code",
   "execution_count": 6,
   "metadata": {},
   "outputs": [],
   "source": [
    "# define data and columns for proper Pocket data table\n",
    "P_data = np.array([P_SASA,AP_SASA,BP_SASA,S_Drug,S_Pocket]).T\n",
    "P_cols = ['SASA_P','SASA_AP','SASA_BP','D_Score','P_Score']\n",
    "\n",
    "# Create Data table and calculate additional properties important for identification of good pockets\n",
    "df_P = pd.DataFrame(P_data, columns=P_cols)\n",
    "df_P['Pocket'] = np.arange(P_count)+1\n",
    "df_P['BSA_AP'] = P_SASA + A_SASA - AP_SASA\n",
    "df_P['BSA_BP'] = P_SASA + B_SASA - BP_SASA\n",
    "df_P['BSA_min'] = df_P[['BSA_AP','BSA_BP']].values.min(axis=1)"
   ]
  },
  {
   "cell_type": "code",
   "execution_count": 7,
   "metadata": {},
   "outputs": [],
   "source": [
    "# Include geometrical information in the data table\n",
    "margin_size = 5 \n",
    "grid_size=0.375\n",
    "df_P['com_x'],df_P['com_y'],df_P['com_z'] = P_com.T\n",
    "df_P['box_x'],df_P['box_y'],df_P['box_z'] = (P_boxv.T+margin_size)/grid_size"
   ]
  },
  {
   "cell_type": "code",
   "execution_count": 8,
   "metadata": {},
   "outputs": [
    {
     "data": {
      "text/html": [
       "<div>\n",
       "<style scoped>\n",
       "    .dataframe tbody tr th:only-of-type {\n",
       "        vertical-align: middle;\n",
       "    }\n",
       "\n",
       "    .dataframe tbody tr th {\n",
       "        vertical-align: top;\n",
       "    }\n",
       "\n",
       "    .dataframe thead th {\n",
       "        text-align: right;\n",
       "    }\n",
       "</style>\n",
       "<table border=\"1\" class=\"dataframe\">\n",
       "  <thead>\n",
       "    <tr style=\"text-align: right;\">\n",
       "      <th></th>\n",
       "      <th>SASA_P</th>\n",
       "      <th>SASA_AP</th>\n",
       "      <th>SASA_BP</th>\n",
       "      <th>D_Score</th>\n",
       "      <th>P_Score</th>\n",
       "      <th>Pocket</th>\n",
       "      <th>BSA_AP</th>\n",
       "      <th>BSA_BP</th>\n",
       "      <th>BSA_min</th>\n",
       "      <th>com_x</th>\n",
       "      <th>com_y</th>\n",
       "      <th>com_z</th>\n",
       "      <th>box_x</th>\n",
       "      <th>box_y</th>\n",
       "      <th>box_z</th>\n",
       "    </tr>\n",
       "  </thead>\n",
       "  <tbody>\n",
       "    <tr>\n",
       "      <th>1</th>\n",
       "      <td>638.000000</td>\n",
       "      <td>19256.900391</td>\n",
       "      <td>12334.500000</td>\n",
       "      <td>0.0095</td>\n",
       "      <td>0.2199</td>\n",
       "      <td>2</td>\n",
       "      <td>94.599609</td>\n",
       "      <td>795.699219</td>\n",
       "      <td>94.599609</td>\n",
       "      <td>13.800000</td>\n",
       "      <td>42.369999</td>\n",
       "      <td>60.090000</td>\n",
       "      <td>50.186666</td>\n",
       "      <td>49.306666</td>\n",
       "      <td>25.493333</td>\n",
       "    </tr>\n",
       "    <tr>\n",
       "      <th>7</th>\n",
       "      <td>399.000000</td>\n",
       "      <td>19018.599609</td>\n",
       "      <td>12476.200195</td>\n",
       "      <td>0.0003</td>\n",
       "      <td>0.0990</td>\n",
       "      <td>8</td>\n",
       "      <td>93.900391</td>\n",
       "      <td>414.999023</td>\n",
       "      <td>93.900391</td>\n",
       "      <td>35.599998</td>\n",
       "      <td>40.660000</td>\n",
       "      <td>57.520000</td>\n",
       "      <td>28.053333</td>\n",
       "      <td>38.053335</td>\n",
       "      <td>24.800001</td>\n",
       "    </tr>\n",
       "    <tr>\n",
       "      <th>8</th>\n",
       "      <td>225.600006</td>\n",
       "      <td>18785.400391</td>\n",
       "      <td>12468.399414</td>\n",
       "      <td>0.0040</td>\n",
       "      <td>0.0766</td>\n",
       "      <td>9</td>\n",
       "      <td>153.699615</td>\n",
       "      <td>249.399811</td>\n",
       "      <td>153.699615</td>\n",
       "      <td>34.330002</td>\n",
       "      <td>21.620001</td>\n",
       "      <td>71.980003</td>\n",
       "      <td>21.626666</td>\n",
       "      <td>21.840000</td>\n",
       "      <td>19.013334</td>\n",
       "    </tr>\n",
       "    <tr>\n",
       "      <th>9</th>\n",
       "      <td>334.000000</td>\n",
       "      <td>18718.599609</td>\n",
       "      <td>12801.700195</td>\n",
       "      <td>0.0011</td>\n",
       "      <td>0.0747</td>\n",
       "      <td>10</td>\n",
       "      <td>328.900391</td>\n",
       "      <td>24.499023</td>\n",
       "      <td>24.499023</td>\n",
       "      <td>11.520000</td>\n",
       "      <td>27.469999</td>\n",
       "      <td>74.440002</td>\n",
       "      <td>25.893333</td>\n",
       "      <td>27.866666</td>\n",
       "      <td>24.826667</td>\n",
       "    </tr>\n",
       "    <tr>\n",
       "      <th>10</th>\n",
       "      <td>625.500000</td>\n",
       "      <td>18641.701172</td>\n",
       "      <td>12889.300781</td>\n",
       "      <td>0.0001</td>\n",
       "      <td>0.0610</td>\n",
       "      <td>11</td>\n",
       "      <td>697.298828</td>\n",
       "      <td>228.398438</td>\n",
       "      <td>228.398438</td>\n",
       "      <td>26.290001</td>\n",
       "      <td>28.219999</td>\n",
       "      <td>47.400002</td>\n",
       "      <td>46.453334</td>\n",
       "      <td>32.586666</td>\n",
       "      <td>35.120000</td>\n",
       "    </tr>\n",
       "    <tr>\n",
       "      <th>16</th>\n",
       "      <td>811.099976</td>\n",
       "      <td>18498.699219</td>\n",
       "      <td>12985.899414</td>\n",
       "      <td>0.0089</td>\n",
       "      <td>0.0398</td>\n",
       "      <td>17</td>\n",
       "      <td>1025.900757</td>\n",
       "      <td>317.399780</td>\n",
       "      <td>317.399780</td>\n",
       "      <td>31.180000</td>\n",
       "      <td>24.240000</td>\n",
       "      <td>65.519997</td>\n",
       "      <td>43.306666</td>\n",
       "      <td>44.133334</td>\n",
       "      <td>44.160001</td>\n",
       "    </tr>\n",
       "    <tr>\n",
       "      <th>23</th>\n",
       "      <td>224.799988</td>\n",
       "      <td>18871.500000</td>\n",
       "      <td>12466.200195</td>\n",
       "      <td>0.0006</td>\n",
       "      <td>-0.0061</td>\n",
       "      <td>24</td>\n",
       "      <td>66.799988</td>\n",
       "      <td>250.799011</td>\n",
       "      <td>66.799988</td>\n",
       "      <td>35.299999</td>\n",
       "      <td>34.419998</td>\n",
       "      <td>63.680000</td>\n",
       "      <td>23.893333</td>\n",
       "      <td>23.413333</td>\n",
       "      <td>17.466667</td>\n",
       "    </tr>\n",
       "    <tr>\n",
       "      <th>24</th>\n",
       "      <td>233.000000</td>\n",
       "      <td>18723.199219</td>\n",
       "      <td>12688.600586</td>\n",
       "      <td>0.0001</td>\n",
       "      <td>-0.0186</td>\n",
       "      <td>25</td>\n",
       "      <td>223.300781</td>\n",
       "      <td>36.598633</td>\n",
       "      <td>36.598633</td>\n",
       "      <td>17.740000</td>\n",
       "      <td>31.879999</td>\n",
       "      <td>56.450001</td>\n",
       "      <td>17.546667</td>\n",
       "      <td>23.493333</td>\n",
       "      <td>22.240000</td>\n",
       "    </tr>\n",
       "    <tr>\n",
       "      <th>34</th>\n",
       "      <td>282.299988</td>\n",
       "      <td>18767.099609</td>\n",
       "      <td>12638.099609</td>\n",
       "      <td>0.0003</td>\n",
       "      <td>-0.1182</td>\n",
       "      <td>35</td>\n",
       "      <td>228.700378</td>\n",
       "      <td>136.399597</td>\n",
       "      <td>136.399597</td>\n",
       "      <td>5.320000</td>\n",
       "      <td>32.650002</td>\n",
       "      <td>71.029999</td>\n",
       "      <td>20.213333</td>\n",
       "      <td>19.893333</td>\n",
       "      <td>29.626667</td>\n",
       "    </tr>\n",
       "  </tbody>\n",
       "</table>\n",
       "</div>"
      ],
      "text/plain": [
       "        SASA_P       SASA_AP       SASA_BP  D_Score  P_Score  Pocket  \\\n",
       "1   638.000000  19256.900391  12334.500000   0.0095   0.2199       2   \n",
       "7   399.000000  19018.599609  12476.200195   0.0003   0.0990       8   \n",
       "8   225.600006  18785.400391  12468.399414   0.0040   0.0766       9   \n",
       "9   334.000000  18718.599609  12801.700195   0.0011   0.0747      10   \n",
       "10  625.500000  18641.701172  12889.300781   0.0001   0.0610      11   \n",
       "16  811.099976  18498.699219  12985.899414   0.0089   0.0398      17   \n",
       "23  224.799988  18871.500000  12466.200195   0.0006  -0.0061      24   \n",
       "24  233.000000  18723.199219  12688.600586   0.0001  -0.0186      25   \n",
       "34  282.299988  18767.099609  12638.099609   0.0003  -0.1182      35   \n",
       "\n",
       "         BSA_AP      BSA_BP     BSA_min      com_x      com_y      com_z  \\\n",
       "1     94.599609  795.699219   94.599609  13.800000  42.369999  60.090000   \n",
       "7     93.900391  414.999023   93.900391  35.599998  40.660000  57.520000   \n",
       "8    153.699615  249.399811  153.699615  34.330002  21.620001  71.980003   \n",
       "9    328.900391   24.499023   24.499023  11.520000  27.469999  74.440002   \n",
       "10   697.298828  228.398438  228.398438  26.290001  28.219999  47.400002   \n",
       "16  1025.900757  317.399780  317.399780  31.180000  24.240000  65.519997   \n",
       "23    66.799988  250.799011   66.799988  35.299999  34.419998  63.680000   \n",
       "24   223.300781   36.598633   36.598633  17.740000  31.879999  56.450001   \n",
       "34   228.700378  136.399597  136.399597   5.320000  32.650002  71.029999   \n",
       "\n",
       "        box_x      box_y      box_z  \n",
       "1   50.186666  49.306666  25.493333  \n",
       "7   28.053333  38.053335  24.800001  \n",
       "8   21.626666  21.840000  19.013334  \n",
       "9   25.893333  27.866666  24.826667  \n",
       "10  46.453334  32.586666  35.120000  \n",
       "16  43.306666  44.133334  44.160001  \n",
       "23  23.893333  23.413333  17.466667  \n",
       "24  17.546667  23.493333  22.240000  \n",
       "34  20.213333  19.893333  29.626667  "
      ]
     },
     "execution_count": 8,
     "metadata": {},
     "output_type": "execute_result"
    }
   ],
   "source": [
    "# Print the first few pockets with good Buried Surface Area values\n",
    "df_P.query('BSA_min > 20')"
   ]
  },
  {
   "cell_type": "markdown",
   "metadata": {},
   "source": [
    "## Data Visualization"
   ]
  },
  {
   "cell_type": "code",
   "execution_count": 9,
   "metadata": {},
   "outputs": [
    {
     "data": {
      "image/png": "[encoded data removed]",
      "text/plain": [
       "<Figure size 800x400 with 2 Axes>"
      ]
     },
     "metadata": {},
     "output_type": "display_data"
    }
   ],
   "source": [
    "fig, axs = plt.subplots(1,2,figsize=(8,4))\n",
    "plot_BSA_Score(df_P, \n",
    "               xcol='BSA_AP',\n",
    "               ycol='BSA_BP',\n",
    "               min_col='BSA_min',\n",
    "               score='D_Score', \n",
    "               plot_margin = 50,\n",
    "               axs = axs,\n",
    "               legend = 'Pocket ID')\n",
    "\n",
    "plt.savefig('pocket_sasa_drugscore.jpeg')"
   ]
  },
  {
   "cell_type": "code",
   "execution_count": 10,
   "metadata": {},
   "outputs": [
    {
     "data": {
      "image/png": "[encoded data removed]",
      "text/plain": [
       "<Figure size 800x400 with 2 Axes>"
      ]
     },
     "metadata": {},
     "output_type": "display_data"
    }
   ],
   "source": [
    "fig, axs = plt.subplots(1,2,figsize=(8,4))\n",
    "plot_BSA_Score(df_P,\n",
    "               xcol='BSA_AP',\n",
    "               ycol='BSA_BP',\n",
    "               min_col='BSA_min',\n",
    "               score='P_Score',\n",
    "               plot_margin=50,\n",
    "               axs=axs,\n",
    "               legend='Pocket ID')\n",
    "\n",
    "plt.savefig('pocket_sasa_pocketscore.jpeg')"
   ]
  },
  {
   "cell_type": "markdown",
   "metadata": {},
   "source": [
    "## Structure Visualization"
   ]
  },
  {
   "cell_type": "code",
   "execution_count": 14,
   "metadata": {},
   "outputs": [
    {
     "name": "stdout",
     "output_type": "stream",
     "text": [
      "    Pocket  com_x  com_y      com_z      box_x      box_y      box_z\n",
      "16      17  31.18  24.24  65.519997  43.306666  44.133334  44.160001\n"
     ]
    },
    {
     "data": {
      "application/vnd.jupyter.widget-view+json": {
       "model_id": "e19576e5cfca43979ffa6cc03f1d2088",
       "version_major": 2,
       "version_minor": 0
      },
      "text/plain": [
       "NGLWidget()"
      ]
     },
     "metadata": {},
     "output_type": "display_data"
    }
   ],
   "source": [
    "# Visualise Structure, change the P_id value to the most promising pocket candidate (or any other candidate for that matter)\n",
    "P_id = 17\n",
    "print(df_P.query('Pocket==@P_id')[['Pocket','com_x','com_y','com_z','box_x','box_y','box_z']])\n",
    "view = nv.show_mdtraj(pdb)\n",
    "pocket_visualize(view,pocket_id=P_id)\n",
    "view"
   ]
  },
  {
   "cell_type": "code",
   "execution_count": 12,
   "metadata": {},
   "outputs": [],
   "source": [
    "# Save the Box dimensions of the Pocket with P_id in config file for docking in later steps\n",
    "\n",
    "_, x, y, z, vx, vy, vz = df_P.query('Pocket==@P_id')[['Pocket',\n",
    "                                                'com_x',\n",
    "                                                'com_y',\n",
    "                                                'com_z',\n",
    "                                                'box_x',\n",
    "                                                'box_y',\n",
    "                                                'box_z']].values[0]\n",
    "\n",
    "with open(path2config, 'w') as f:\n",
    "    f.write('center_x = {:2.2f}\\n'.format(x))\n",
    "    f.write('center_y = {:2.2f}\\n'.format(y))\n",
    "    f.write('center_z = {:2.2f}\\n'.format(z))\n",
    "    f.write('size_x = {:2.2f}\\n'.format(vx))\n",
    "    f.write('size_y = {:2.2f}\\n'.format(vy))\n",
    "    f.write('size_z = {:2.2f}\\n'.format(vz))"
   ]
  },
  {
   "cell_type": "code",
   "execution_count": 15,
   "metadata": {},
   "outputs": [
    {
     "name": "stdout",
     "output_type": "stream",
     "text": [
      "   Pocket      com_x      com_y      com_z      box_x  box_y      box_z\n",
      "8       9  34.330002  21.620001  71.980003  21.626666  21.84  19.013334\n"
     ]
    },
    {
     "data": {
      "application/vnd.jupyter.widget-view+json": {
       "model_id": "06d543a16912478e9f99bbd90650f188",
       "version_major": 2,
       "version_minor": 0
      },
      "text/plain": [
       "NGLWidget()"
      ]
     },
     "metadata": {},
     "output_type": "display_data"
    }
   ],
   "source": [
    "# Visualise Structure, change the P_id value to second most promising pocket candidate\n",
    "P_id = 9\n",
    "print(df_P[df_P['Pocket']==P_id][['Pocket','com_x','com_y','com_z','box_x','box_y','box_z']])\n",
    "view = nv.show_mdtraj(pdb)\n",
    "pocket_visualize(view,pocket_id=P_id)\n",
    "view"
   ]
  }
 ],
 "metadata": {
  "kernelspec": {
   "display_name": "Python 3 (ipykernel)",
   "language": "python",
   "name": "python3"
  },
  "language_info": {
   "codemirror_mode": {
    "name": "ipython",
    "version": 3
   },
   "file_extension": ".py",
   "mimetype": "text/x-python",
   "name": "python",
   "nbconvert_exporter": "python",
   "pygments_lexer": "ipython3",
   "version": "3.8.18"
  },
  "toc": {
   "base_numbering": 1,
   "nav_menu": {},
   "number_sections": true,
   "sideBar": true,
   "skip_h1_title": false,
   "title_cell": "Table of Contents",
   "title_sidebar": "Contents",
   "toc_cell": false,
   "toc_position": {
    "height": "calc(100% - 180px)",
    "left": "10px",
    "top": "150px",
    "width": "373.316px"
   },
   "toc_section_display": true,
   "toc_window_display": true
  },
  "toc-autonumbering": true,
  "toc-showmarkdowntxt": false
 },
 "nbformat": 4,
 "nbformat_minor": 4
}
