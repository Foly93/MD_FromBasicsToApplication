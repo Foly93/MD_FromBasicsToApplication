{
 "cells": [
  {
   "cell_type": "markdown",
   "metadata": {},
   "source": [
    "# System Setup"
   ]
  },
  {
   "cell_type": "code",
   "execution_count": 1,
   "metadata": {},
   "outputs": [
    {
     "data": {
      "application/vnd.jupyter.widget-view+json": {
       "model_id": "7948a8c354c749d3a870caf77152c5c3",
       "version_major": 2,
       "version_minor": 0
      },
      "text/plain": []
     },
     "metadata": {},
     "output_type": "display_data"
    }
   ],
   "source": [
    "import numpy as np\n",
    "import pandas as pd\n",
    "import mdtraj as md\n",
    "import nglview as nv\n",
    "from glob import glob\n",
    "from functions import *\n",
    "import matplotlib.pyplot as plt"
   ]
  },
  {
   "cell_type": "code",
   "execution_count": 2,
   "metadata": {},
   "outputs": [],
   "source": [
    "## The Atomic Radii used for SASA calculation\n",
    "_ATOMIC_RADII = {'H'   : 0.120, 'He'  : 0.140, 'Li'  : 0.076, 'Be' : 0.059,\n",
    "                 'B'   : 0.192, 'C'   : 0.170, 'N'   : 0.155, 'O'  : 0.152,\n",
    "                 'F'   : 0.147, 'Ne'  : 0.154, 'Na'  : 0.102, 'Mg' : 0.086,\n",
    "                 'Al'  : 0.184, 'Si'  : 0.210, 'P'   : 0.180, 'S'  : 0.180,\n",
    "                'Ca'   : 0.200, 'Cl'  : 0.200, 'Zn'  : 0.200, 'VS' : 0.152,\n",
    "                 'I'   : 0.220, 'Br'  : 0.196 , 'A'  : 0.170,}"
   ]
  },
  {
   "cell_type": "markdown",
   "metadata": {},
   "source": [
    "# Docking from Vina"
   ]
  },
  {
   "cell_type": "markdown",
   "metadata": {},
   "source": [
    "## Calculate BSA"
   ]
  },
  {
   "cell_type": "code",
   "execution_count": 3,
   "metadata": {},
   "outputs": [],
   "source": [
    "# Path to receptor file\n",
    "path2out = '../01_receptor_prep/hmx.B99990001.pdb'\n",
    "\n",
    "# Load the file with mdtraj and convert to table\n",
    "pdb = md.load(path2out)\n",
    "table, _ = pdb.topology.to_dataframe()\n",
    "\n",
    "# from the table get the atom indices, coords and elements for both proteins\n",
    "A_ids = table.query('chainID == 0').index\n",
    "B_ids = table.query('chainID == 1').index\n",
    "A_xyz = pdb.xyz[:,A_ids]\n",
    "B_xyz = pdb.xyz[:,B_ids]\n",
    "A_elems = table.loc[A_ids,'element'].values\n",
    "B_elems = table.loc[B_ids,'element'].values\n",
    "\n",
    "# SASA calculation with external function \n",
    "### would be better if we wrote functions.Sasa_calc, then its clear where the function comes from\n",
    "A_Radii    = [_ATOMIC_RADII[element] for element in A_elems]\n",
    "B_Radii    = [_ATOMIC_RADII[element] for element in B_elems]  \n",
    "A_SASA     = Sasa_calc(A_xyz,A_Radii)[0]\n",
    "B_SASA     = Sasa_calc(B_xyz,B_Radii)[0]"
   ]
  },
  {
   "cell_type": "code",
   "execution_count": 4,
   "metadata": {},
   "outputs": [],
   "source": [
    "# specify path to the ligands and the file count (thus the total number of ligands)\n",
    "L_files = glob('../03_docking_prep/PDB/*[0-9]_1.pdb')\n",
    "L_count = len(L_files)\n",
    "\n",
    "# Initialise Arrays with the total ligand count\n",
    "L_id = np.zeros(L_count,dtype=int)\n",
    "mode = np.zeros(L_count,dtype=int)\n",
    "score = np.zeros(L_count)\n",
    "L_SASA = np.zeros(L_count)\n",
    "AL_SASA = np.zeros(L_count)\n",
    "BL_SASA = np.zeros(L_count)\n",
    "\n",
    "# Loop over all Ligand files in the directory specified in the glob argument\n",
    "for i, L_file in enumerate(L_files):\n",
    "    \n",
    "    # use the file to load the ligand with mdtraj and extract meta information and Docking Score\n",
    "    L = md.load(L_file)\n",
    "    L_id[i] = L_file.split('_')[-2]\n",
    "    mode[i] = L_file.split('_')[-1].split('.pdb')[0]\n",
    "    score[i] = read_output(L_file, pattern=vina_pattern)[0]\n",
    "    \n",
    "    # Calculate the SASAs from the protein and Ligand informations read by MDtraj and the hardcoded Radii\n",
    "    L_Radii = [_ATOMIC_RADII[atom.element.symbol] for atom in L.topology.atoms] \n",
    "    L_SASA[i] = Sasa_calc(L.xyz,L_Radii)[0]\n",
    "    AL_SASA[i] = Sasa_calc(np.concatenate([A_xyz, L.xyz],axis=1),A_Radii + L_Radii)[0]\n",
    "    BL_SASA[i] = Sasa_calc(np.concatenate([B_xyz, L.xyz],axis=1),B_Radii + L_Radii)[0]"
   ]
  },
  {
   "cell_type": "code",
   "execution_count": 5,
   "metadata": {},
   "outputs": [],
   "source": [
    "# define data and columns for proper Pocket data table\n",
    "L_data = np.array([score, L_SASA, AL_SASA, BL_SASA]).T\n",
    "L_cols = ['D_Score','SASA_L','SASA_AL','SASA_BL']\n",
    "\n",
    "# Create Data table and calculate additional properties important for identification of good ligands\n",
    "df_L = pd.DataFrame(L_data, columns=L_cols)\n",
    "df_L['Ligand'] = L_id\n",
    "df_L['BSA_AL'] = L_SASA + A_SASA - AL_SASA\n",
    "df_L['BSA_BL'] = L_SASA + B_SASA - BL_SASA\n",
    "df_L['BSA_min'] = df_L[['BSA_AL','BSA_BL']].values.min(axis=1)"
   ]
  },
  {
   "cell_type": "code",
   "execution_count": 6,
   "metadata": {
    "scrolled": true
   },
   "outputs": [
    {
     "data": {
      "text/html": [
       "<div>\n",
       "<style scoped>\n",
       "    .dataframe tbody tr th:only-of-type {\n",
       "        vertical-align: middle;\n",
       "    }\n",
       "\n",
       "    .dataframe tbody tr th {\n",
       "        vertical-align: top;\n",
       "    }\n",
       "\n",
       "    .dataframe thead th {\n",
       "        text-align: right;\n",
       "    }\n",
       "</style>\n",
       "<table border=\"1\" class=\"dataframe\">\n",
       "  <thead>\n",
       "    <tr style=\"text-align: right;\">\n",
       "      <th></th>\n",
       "      <th>D_Score</th>\n",
       "      <th>SASA_L</th>\n",
       "      <th>SASA_AL</th>\n",
       "      <th>SASA_BL</th>\n",
       "      <th>Ligand</th>\n",
       "      <th>BSA_AL</th>\n",
       "      <th>BSA_BL</th>\n",
       "      <th>BSA_min</th>\n",
       "    </tr>\n",
       "  </thead>\n",
       "  <tbody>\n",
       "    <tr>\n",
       "      <th>0</th>\n",
       "      <td>-6.1</td>\n",
       "      <td>418.100037</td>\n",
       "      <td>18848.199219</td>\n",
       "      <td>12509.400391</td>\n",
       "      <td>1</td>\n",
       "      <td>283.400818</td>\n",
       "      <td>400.898865</td>\n",
       "      <td>283.400818</td>\n",
       "    </tr>\n",
       "    <tr>\n",
       "      <th>1</th>\n",
       "      <td>-5.2</td>\n",
       "      <td>458.900024</td>\n",
       "      <td>18923.398438</td>\n",
       "      <td>12459.900391</td>\n",
       "      <td>87585</td>\n",
       "      <td>249.001587</td>\n",
       "      <td>491.198853</td>\n",
       "      <td>249.001587</td>\n",
       "    </tr>\n",
       "    <tr>\n",
       "      <th>2</th>\n",
       "      <td>-5.8</td>\n",
       "      <td>421.700012</td>\n",
       "      <td>18863.000000</td>\n",
       "      <td>12507.700195</td>\n",
       "      <td>199888</td>\n",
       "      <td>272.200012</td>\n",
       "      <td>406.199036</td>\n",
       "      <td>272.200012</td>\n",
       "    </tr>\n",
       "    <tr>\n",
       "      <th>3</th>\n",
       "      <td>-5.1</td>\n",
       "      <td>392.700012</td>\n",
       "      <td>18901.300781</td>\n",
       "      <td>12505.400391</td>\n",
       "      <td>0</td>\n",
       "      <td>204.899231</td>\n",
       "      <td>379.498840</td>\n",
       "      <td>204.899231</td>\n",
       "    </tr>\n",
       "    <tr>\n",
       "      <th>4</th>\n",
       "      <td>-5.5</td>\n",
       "      <td>356.800018</td>\n",
       "      <td>18865.000000</td>\n",
       "      <td>12471.000000</td>\n",
       "      <td>139</td>\n",
       "      <td>205.300018</td>\n",
       "      <td>377.999237</td>\n",
       "      <td>205.300018</td>\n",
       "    </tr>\n",
       "  </tbody>\n",
       "</table>\n",
       "</div>"
      ],
      "text/plain": [
       "   D_Score      SASA_L       SASA_AL       SASA_BL  Ligand      BSA_AL  \\\n",
       "0     -6.1  418.100037  18848.199219  12509.400391       1  283.400818   \n",
       "1     -5.2  458.900024  18923.398438  12459.900391   87585  249.001587   \n",
       "2     -5.8  421.700012  18863.000000  12507.700195  199888  272.200012   \n",
       "3     -5.1  392.700012  18901.300781  12505.400391       0  204.899231   \n",
       "4     -5.5  356.800018  18865.000000  12471.000000     139  205.300018   \n",
       "\n",
       "       BSA_BL     BSA_min  \n",
       "0  400.898865  283.400818  \n",
       "1  491.198853  249.001587  \n",
       "2  406.199036  272.200012  \n",
       "3  379.498840  204.899231  \n",
       "4  377.999237  205.300018  "
      ]
     },
     "execution_count": 6,
     "metadata": {},
     "output_type": "execute_result"
    }
   ],
   "source": [
    "df_L.head()"
   ]
  },
  {
   "cell_type": "code",
   "execution_count": 7,
   "metadata": {},
   "outputs": [
    {
     "data": {
      "text/html": [
       "<div>\n",
       "<style scoped>\n",
       "    .dataframe tbody tr th:only-of-type {\n",
       "        vertical-align: middle;\n",
       "    }\n",
       "\n",
       "    .dataframe tbody tr th {\n",
       "        vertical-align: top;\n",
       "    }\n",
       "\n",
       "    .dataframe thead th {\n",
       "        text-align: right;\n",
       "    }\n",
       "</style>\n",
       "<table border=\"1\" class=\"dataframe\">\n",
       "  <thead>\n",
       "    <tr style=\"text-align: right;\">\n",
       "      <th></th>\n",
       "      <th>D_Score</th>\n",
       "      <th>SASA_L</th>\n",
       "      <th>SASA_AL</th>\n",
       "      <th>SASA_BL</th>\n",
       "      <th>Ligand</th>\n",
       "      <th>BSA_AL</th>\n",
       "      <th>BSA_BL</th>\n",
       "      <th>BSA_min</th>\n",
       "    </tr>\n",
       "  </thead>\n",
       "  <tbody>\n",
       "    <tr>\n",
       "      <th>0</th>\n",
       "      <td>-6.1</td>\n",
       "      <td>418.100037</td>\n",
       "      <td>18848.199219</td>\n",
       "      <td>12509.400391</td>\n",
       "      <td>1</td>\n",
       "      <td>283.400818</td>\n",
       "      <td>400.898865</td>\n",
       "      <td>283.400818</td>\n",
       "    </tr>\n",
       "    <tr>\n",
       "      <th>1</th>\n",
       "      <td>-5.2</td>\n",
       "      <td>458.900024</td>\n",
       "      <td>18923.398438</td>\n",
       "      <td>12459.900391</td>\n",
       "      <td>87585</td>\n",
       "      <td>249.001587</td>\n",
       "      <td>491.198853</td>\n",
       "      <td>249.001587</td>\n",
       "    </tr>\n",
       "    <tr>\n",
       "      <th>2</th>\n",
       "      <td>-5.8</td>\n",
       "      <td>421.700012</td>\n",
       "      <td>18863.000000</td>\n",
       "      <td>12507.700195</td>\n",
       "      <td>199888</td>\n",
       "      <td>272.200012</td>\n",
       "      <td>406.199036</td>\n",
       "      <td>272.200012</td>\n",
       "    </tr>\n",
       "    <tr>\n",
       "      <th>3</th>\n",
       "      <td>-5.1</td>\n",
       "      <td>392.700012</td>\n",
       "      <td>18901.300781</td>\n",
       "      <td>12505.400391</td>\n",
       "      <td>0</td>\n",
       "      <td>204.899231</td>\n",
       "      <td>379.498840</td>\n",
       "      <td>204.899231</td>\n",
       "    </tr>\n",
       "    <tr>\n",
       "      <th>4</th>\n",
       "      <td>-5.5</td>\n",
       "      <td>356.800018</td>\n",
       "      <td>18865.000000</td>\n",
       "      <td>12471.000000</td>\n",
       "      <td>139</td>\n",
       "      <td>205.300018</td>\n",
       "      <td>377.999237</td>\n",
       "      <td>205.300018</td>\n",
       "    </tr>\n",
       "    <tr>\n",
       "      <th>5</th>\n",
       "      <td>-5.6</td>\n",
       "      <td>392.899994</td>\n",
       "      <td>18871.898438</td>\n",
       "      <td>12465.000000</td>\n",
       "      <td>75</td>\n",
       "      <td>234.501556</td>\n",
       "      <td>420.099213</td>\n",
       "      <td>234.501556</td>\n",
       "    </tr>\n",
       "    <tr>\n",
       "      <th>6</th>\n",
       "      <td>-4.7</td>\n",
       "      <td>380.600006</td>\n",
       "      <td>18865.199219</td>\n",
       "      <td>12451.899414</td>\n",
       "      <td>6</td>\n",
       "      <td>228.900787</td>\n",
       "      <td>420.899811</td>\n",
       "      <td>228.900787</td>\n",
       "    </tr>\n",
       "    <tr>\n",
       "      <th>7</th>\n",
       "      <td>-5.1</td>\n",
       "      <td>396.900024</td>\n",
       "      <td>18880.599609</td>\n",
       "      <td>12506.799805</td>\n",
       "      <td>18</td>\n",
       "      <td>229.800415</td>\n",
       "      <td>382.299438</td>\n",
       "      <td>229.800415</td>\n",
       "    </tr>\n",
       "  </tbody>\n",
       "</table>\n",
       "</div>"
      ],
      "text/plain": [
       "   D_Score      SASA_L       SASA_AL       SASA_BL  Ligand      BSA_AL  \\\n",
       "0     -6.1  418.100037  18848.199219  12509.400391       1  283.400818   \n",
       "1     -5.2  458.900024  18923.398438  12459.900391   87585  249.001587   \n",
       "2     -5.8  421.700012  18863.000000  12507.700195  199888  272.200012   \n",
       "3     -5.1  392.700012  18901.300781  12505.400391       0  204.899231   \n",
       "4     -5.5  356.800018  18865.000000  12471.000000     139  205.300018   \n",
       "5     -5.6  392.899994  18871.898438  12465.000000      75  234.501556   \n",
       "6     -4.7  380.600006  18865.199219  12451.899414       6  228.900787   \n",
       "7     -5.1  396.900024  18880.599609  12506.799805      18  229.800415   \n",
       "\n",
       "       BSA_BL     BSA_min  \n",
       "0  400.898865  283.400818  \n",
       "1  491.198853  249.001587  \n",
       "2  406.199036  272.200012  \n",
       "3  379.498840  204.899231  \n",
       "4  377.999237  205.300018  \n",
       "5  420.099213  234.501556  \n",
       "6  420.899811  228.900787  \n",
       "7  382.299438  229.800415  "
      ]
     },
     "execution_count": 7,
     "metadata": {},
     "output_type": "execute_result"
    }
   ],
   "source": [
    "## Get only Interface ligand with buried Surface area greater than 20\n",
    "df_L.query('BSA_min > 20')"
   ]
  },
  {
   "cell_type": "markdown",
   "metadata": {},
   "source": [
    "## Data Visualization"
   ]
  },
  {
   "cell_type": "code",
   "execution_count": 8,
   "metadata": {},
   "outputs": [
    {
     "data": {
      "image/png": "[encoded data removed]",
      "text/plain": [
       "<Figure size 800x400 with 2 Axes>"
      ]
     },
     "metadata": {},
     "output_type": "display_data"
    }
   ],
   "source": [
    "# Plot the BSA metrics and save the figure\n",
    "fig, axs = plt.subplots(1,2,figsize=(8,4))\n",
    "plot_BSA_Score(df_L, \n",
    "               xcol='BSA_AL',\n",
    "               ycol='BSA_BL',\n",
    "               min_col='BSA_min',\n",
    "               score='D_Score', \n",
    "               plot_margin = 50,\n",
    "               axs = axs)\n",
    "plt.savefig('VinaTest_BSA_dockingscore.jpeg', dpi=450)"
   ]
  },
  {
   "cell_type": "markdown",
   "metadata": {},
   "source": [
    "## Structure Visualization"
   ]
  },
  {
   "cell_type": "code",
   "execution_count": 9,
   "metadata": {},
   "outputs": [
    {
     "data": {
      "application/vnd.jupyter.widget-view+json": {
       "model_id": "1254dcd73e57480694235f520de81b87",
       "version_major": 2,
       "version_minor": 0
      },
      "text/plain": [
       "NGLWidget()"
      ]
     },
     "metadata": {},
     "output_type": "display_data"
    }
   ],
   "source": [
    "# Visualisation to make sure the ligand is good for real\n",
    "# Change L_path for different ligands or different modes; e.g: out_1_3, out_1_3, or out_18_3, out_18_9\n",
    "AB_path = '../01_receptor_prep/hmx.B99990001.pdb'\n",
    "L_path='../03_docking_prep/PDB/out_1_1.pdb'\n",
    "AB = md.load(AB_path)\n",
    "view = nv.show_mdtraj(AB)\n",
    "show_ligand(view,L_path)\n",
    "view"
   ]
  }
 ],
 "metadata": {
  "kernelspec": {
   "display_name": "Python 3 (ipykernel)",
   "language": "python",
   "name": "python3"
  },
  "language_info": {
   "codemirror_mode": {
    "name": "ipython",
    "version": 3
   },
   "file_extension": ".py",
   "mimetype": "text/x-python",
   "name": "python",
   "nbconvert_exporter": "python",
   "pygments_lexer": "ipython3",
   "version": "3.7.12"
  },
  "toc": {
   "base_numbering": 1,
   "nav_menu": {},
   "number_sections": true,
   "sideBar": true,
   "skip_h1_title": false,
   "title_cell": "Table of Contents",
   "title_sidebar": "Contents",
   "toc_cell": false,
   "toc_position": {
    "height": "calc(100% - 180px)",
    "left": "10px",
    "top": "150px",
    "width": "373.316px"
   },
   "toc_section_display": true,
   "toc_window_display": true
  },
  "toc-autonumbering": true,
  "toc-showmarkdowntxt": false
 },
 "nbformat": 4,
 "nbformat_minor": 4
}
